{
 "cells": [
  {
   "cell_type": "code",
   "execution_count": null,
   "id": "7426091f",
   "metadata": {},
   "outputs": [],
   "source": [
    "import pennylane as qml\n",
    "import qutip as qtp\n",
    "import qutipHam\n",
    "import numpy as np\n",
    "from jax import numpy as jnp\n",
    "import jax\n",
    "jax.config.update(\"jax_enable_x64\", True)\n",
    "from scipy.optimize import minimize\n",
    "import timeit\n",
    "import mod_initstates as init\n",
    "import mod_timeevol as te"
   ]
  },
  {
   "cell_type": "code",
   "execution_count": null,
   "id": "ec5b6b45",
   "metadata": {},
   "outputs": [],
   "source": [
    "n = 3 \n",
    "d = 2**n \n",
    "cc = 1\n",
    "\n",
    "isingHam = qutipHam.H_ising(n, cc)\n",
    "sbHam = qutipHam.H_sb(n, cc)\n",
    "\n",
    "initHam = isingHam\n",
    "tau = te.characteristic_time(initHam)\n",
    "#initHam = qml.pauli_decompose(isingHam.full()) \n",
    "\n",
    "tensor_initial_states, initial_states = init.init_states(n-1)\n",
    "for i in range(len(initial_states)):\n",
    "    initial_states[i] = jnp.array(initial_states[i])\n",
    "initial_states = jnp.array(initial_states)\n",
    "\n",
    "wireLists = [list(range(n))]\n",
    "for i in range(1, n):\n",
    "    wireL = list(range(n))\n",
    "    wireL[0], wireL[i] = wireL[i], wireL[0]\n",
    "    wireLists.append(wireL)"
   ]
  },
  {
   "cell_type": "code",
   "execution_count": null,
   "id": "ee9f005d",
   "metadata": {},
   "outputs": [],
   "source": [
    "devRho = qml.device(\"default.mixed\", wires=n)\n",
    "\n",
    "@qml.qnode(devRho)\n",
    "def purity(thetas, n, H, tau, rho, wireList):\n",
    "    qml.QubitDensityMatrix(rho, wires=list(range(n)))\n",
    "    qml.SpecialUnitary(thetas, wires=wireList)\n",
    "    qml.ApproxTimeEvolution(H, tau, 1)        # If exact, set to 1. See ApproxTE documentation.\n",
    "    qml.adjoint(qml.SpecialUnitary(thetas, wires=wireList))\n",
    "    return qml.purity(0)\n",
    "\n",
    "def cost(thetas, n, H, tau, rho, allWireLists):\n",
    "    scores = []\n",
    "    for i in range(n):\n",
    "        decH = qml.pauli_decompose(H, wire_order=allWireLists[i])\n",
    "        scores.append(1 - purity(thetas, n, decH, tau, rho, allWireLists[i]))                \n",
    "    return max(scores)\n",
    "\n",
    "gradCost = jax.grad(cost, argnums=0)"
   ]
  },
  {
   "cell_type": "code",
   "execution_count": null,
   "id": "f2a56768",
   "metadata": {},
   "outputs": [],
   "source": [
    "rThetas = jnp.array(np.random.randn((d**2-1)))\n",
    "start = timeit.default_timer()\n",
    "opt = minimize(cost, rThetas, args = (n, initHam.full(), tau, initial_states[0], wireLists), \n",
    "               method='BFGS', jac=gradCost)\n",
    "end = timeit.default_timer()\n",
    "print(end - start)"
   ]
  }
 ],
 "metadata": {
  "kernelspec": {
   "display_name": "Python 3",
   "language": "python",
   "name": "python3"
  },
  "language_info": {
   "codemirror_mode": {
    "name": "ipython",
    "version": 3
   },
   "file_extension": ".py",
   "mimetype": "text/x-python",
   "name": "python",
   "nbconvert_exporter": "python",
   "pygments_lexer": "ipython3",
   "version": "3.8.8"
  }
 },
 "nbformat": 4,
 "nbformat_minor": 5
}

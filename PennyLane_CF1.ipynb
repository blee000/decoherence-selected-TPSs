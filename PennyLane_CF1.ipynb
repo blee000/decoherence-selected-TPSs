{
 "cells": [
  {
   "cell_type": "code",
   "execution_count": 1,
   "id": "a645a142",
   "metadata": {},
   "outputs": [],
   "source": [
    "import pennylane as qml\n",
    "from pennylane import numpy as np\n",
    "import jax\n",
    "import qutip as qtp\n",
    "from scipy.optimize import minimize"
   ]
  },
  {
   "cell_type": "code",
   "execution_count": 2,
   "id": "5de012f4",
   "metadata": {},
   "outputs": [],
   "source": [
    "coeffs = [0.5]*3\n",
    "ops = [qml.PauliZ(0) @ qml.PauliZ(1), qml.PauliZ(1) @ qml.PauliZ(2), qml.PauliZ(0) @ qml.PauliZ(2)]\n",
    "isingHam = qml.Hamiltonian(coeffs, ops) # native Hamiltonian"
   ]
  },
  {
   "cell_type": "code",
   "execution_count": 3,
   "id": "60f686a8",
   "metadata": {},
   "outputs": [],
   "source": [
    "n = 3 # total number of qubits\n",
    "d = 2**n # dimension of composite system\n",
    "H = isingHam # native Hamiltonian\n",
    "tau = 1 # characteristic time\n",
    "\n",
    "rho = np.zeros((d, d), dtype=np.complex128, requires_grad=False)\n",
    "val = 0.25\n",
    "rho[0, 0] = val\n",
    "rho[1, 1] = val\n",
    "rho[2, 2] = val\n",
    "rho[3, 3] = val\n",
    "rho = np.array(rho, requires_grad=False) # initial density matrix\n",
    "\n",
    "wireList = list(range(n))\n",
    "thetas = np.array(np.random.randn((d**2-1), requires_grad = True)) # random initial parameters for optimization"
   ]
  },
  {
   "cell_type": "markdown",
   "id": "a54f58c7",
   "metadata": {},
   "source": [
    "## CF1"
   ]
  },
  {
   "cell_type": "code",
   "execution_count": 4,
   "id": "6a543642",
   "metadata": {},
   "outputs": [],
   "source": [
    "devRho = qml.device(\"default.mixed\", wires=3)\n",
    "@qml.qnode(devRho)\n",
    "def processRho(n, H, tau, thetas, rho):\n",
    "    '''\n",
    "    Time evolves rho using scrambled Hamiltonian by characteristic time, then traces out of environment.\n",
    "    Inputs:\n",
    "     - n: total number of qubits\n",
    "     - H: native Hamiltonian to be scrambled\n",
    "     - tau: characteristic time\n",
    "     - thetas: parameters to scramble H\n",
    "     - rho: initial density matrix\n",
    "    \n",
    "    Outputs:\n",
    "     - rhoTau: time evolved, then traced out density matrix\n",
    "    '''\n",
    "    qml.QubitDensityMatrix(rho, wires=wireList)\n",
    "    qml.adjoint(qml.SpecialUnitary(thetas, wires=wireList))\n",
    "    qml.ApproxTimeEvolution(H, tau, 100)\n",
    "    qml.SpecialUnitary(thetas, wires=wireList)\n",
    "    return qml.density_matrix([0])\n",
    "\n",
    "#print(qml.draw(circuit)(n, isingHam, tau, thetas, rho))"
   ]
  },
  {
   "cell_type": "code",
   "execution_count": 5,
   "id": "fad8ed4b",
   "metadata": {},
   "outputs": [],
   "source": [
    "@qml.qnode(devRho)\n",
    "def purity(thetas):\n",
    "    '''\n",
    "    Initializes a density matrix and takes its purity.\n",
    "    '''\n",
    "    qml.QubitDensityMatrix(processRho(n, H, tau, thetas, rho), wires=0)\n",
    "    return qml.purity(0)\n",
    "\n",
    "def cost(thetas):\n",
    "    '''\n",
    "    Computes linear entropy from purity. \n",
    "    '''\n",
    "    return 1 - purity(thetas)"
   ]
  },
  {
   "cell_type": "code",
   "execution_count": 16,
   "id": "b7327498",
   "metadata": {},
   "outputs": [
    {
     "data": {
      "text/plain": [
       "2.6441293599077653e-11"
      ]
     },
     "execution_count": 16,
     "metadata": {},
     "output_type": "execute_result"
    }
   ],
   "source": [
    "opt = minimize(cost, thetas)\n",
    "cost(opt.x)"
   ]
  },
  {
   "cell_type": "markdown",
   "id": "6fe93a78",
   "metadata": {},
   "source": [
    "## Old code"
   ]
  },
  {
   "cell_type": "code",
   "execution_count": 18,
   "id": "48422856",
   "metadata": {},
   "outputs": [],
   "source": [
    "devRho = qml.device(\"default.mixed\", wires=3)\n",
    "@qml.qnode(devRho)\n",
    "def initRho(n):\n",
    "    qml.QubitDensityMatrix(rho, wires=wireList)\n",
    "    return qml.state()"
   ]
  },
  {
   "cell_type": "code",
   "execution_count": 19,
   "id": "1d12458e",
   "metadata": {},
   "outputs": [],
   "source": [
    "@qml.qnode(devRho)\n",
    "def TE(H, tau, rho):\n",
    "    qml.QubitDensityMatrix(rho, wires=wireList)\n",
    "    qml.adjoint(qml.SpecialUnitary(thetas, wires=wireList))\n",
    "    qml.ApproxTimeEvolution(H, tau, 100)\n",
    "    qml.SpecialUnitary(thetas, wires=wireList)\n",
    "    return qml.density_matrix([0])\n",
    "    \n",
    "#print(qml.draw(TE)(isingHam, tau, rho))"
   ]
  },
  {
   "cell_type": "code",
   "execution_count": 24,
   "id": "97f128d8",
   "metadata": {},
   "outputs": [],
   "source": [
    "@qml.qnode(devRho)\n",
    "def score(rhoTau):\n",
    "    qml.QubitDensityMatrix(rhoTau, wires=0)\n",
    "    return qml.purity(0)"
   ]
  },
  {
   "cell_type": "code",
   "execution_count": 21,
   "id": "5271db0a",
   "metadata": {},
   "outputs": [],
   "source": [
    "rho = initRho(n)\n",
    "rhoTau = TE(isingHam, tau, rho)\n",
    "score = score(rhoTau)"
   ]
  },
  {
   "cell_type": "code",
   "execution_count": 22,
   "id": "c280ed86",
   "metadata": {},
   "outputs": [
    {
     "data": {
      "text/plain": [
       "0.5726129954782994"
      ]
     },
     "execution_count": 22,
     "metadata": {},
     "output_type": "execute_result"
    }
   ],
   "source": [
    "score"
   ]
  },
  {
   "cell_type": "code",
   "execution_count": null,
   "id": "6a347219",
   "metadata": {},
   "outputs": [],
   "source": [
    "def scram(n, H, thetas):\n",
    "    '''\n",
    "    Scrambles Hamiltonian with GGMMs parameterized by thetas.\n",
    "    '''\n",
    "    U = qml.SpecialUnitary(thetas, wires=list(range(n)))\n",
    "    Udag = qml.adjoint(U) \n",
    "    return qml.prod(U, H, Udag)\n",
    "\n",
    "def constructTEO(H, thetas, wireList):\n",
    "    U = qml.SpecialUnitary(thetas, wires = wireList)\n",
    "    return qml.prod(U, H, qml.adjoint(U))"
   ]
  }
 ],
 "metadata": {
  "kernelspec": {
   "display_name": "Python 3",
   "language": "python",
   "name": "python3"
  },
  "language_info": {
   "codemirror_mode": {
    "name": "ipython",
    "version": 3
   },
   "file_extension": ".py",
   "mimetype": "text/x-python",
   "name": "python",
   "nbconvert_exporter": "python",
   "pygments_lexer": "ipython3",
   "version": "3.8.8"
  }
 },
 "nbformat": 4,
 "nbformat_minor": 5
}
